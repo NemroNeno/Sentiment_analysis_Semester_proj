{
 "cells": [
  {
   "cell_type": "code",
   "execution_count": 3,
   "metadata": {},
   "outputs": [
    {
     "name": "stderr",
     "output_type": "stream",
     "text": [
      "d:\\semeseter Data\\Semester 6\\Machine Learning\\Project\\venv\\lib\\site-packages\\tqdm\\auto.py:21: TqdmWarning: IProgress not found. Please update jupyter and ipywidgets. See https://ipywidgets.readthedocs.io/en/stable/user_install.html\n",
      "  from .autonotebook import tqdm as notebook_tqdm\n"
     ]
    }
   ],
   "source": [
    "import torch\n",
    "import torch.nn as nn\n",
    "import torch.optim as optim\n",
    "from torch.utils.data import Dataset, DataLoader\n",
    "from transformers import BertTokenizer, BertModel\n",
    "import emoji\n",
    "import numpy as np\n",
    "from sklearn.model_selection import train_test_split\n",
    "from sklearn.metrics import accuracy_score, f1_score\n",
    "from tqdm.auto import tqdm\n",
    "import random\n",
    "import json\n",
    "\n",
    "# Set random seed for reproducibility\n",
    "torch.manual_seed(42)\n",
    "np.random.seed(42)\n",
    "random.seed(42)\n",
    "\n",
    "# Dataset\n",
    "data = []\n",
    "with open(f\"..\\data\\\\final_dataset.json\", 'r') as f:\n",
    "        data = json.load(f)\n",
    "\n",
    "\n",
    "# Convert polarity to labels: -1 -> 0 (negative), 0 -> 1 (neutral), 1 -> 2 (positive)\n",
    "for item in data:\n",
    "    item['label'] = item['polarity'] + 1\n"
   ]
  },
  {
   "cell_type": "code",
   "execution_count": 4,
   "metadata": {},
   "outputs": [],
   "source": [
    "# Initialize BERT tokenizer\n",
    "bert_tokenizer = BertTokenizer.from_pretrained('bert-base-uncased')\n",
    "\n",
    "# Extract all unique emojis from the dataset\n",
    "unique_emojis = set()\n",
    "for item in data:\n",
    "    emojis = [char for char in item['sentence'] if char in emoji.EMOJI_DATA]\n",
    "    unique_emojis.update(emojis)\n",
    "\n",
    "# Add emojis directly as tokens to the tokenizer\n",
    "bert_tokenizer.add_tokens(list(unique_emojis))\n",
    "\n",
    "# Custom Dataset\n",
    "class SentimentDataset(Dataset):\n",
    "    def __init__(self, data, tokenizer, max_length=128):\n",
    "        self.data = data\n",
    "        self.tokenizer = tokenizer\n",
    "        self.max_length = max_length\n",
    "\n",
    "    def __len__(self):\n",
    "        return len(self.data)\n",
    "\n",
    "    def __getitem__(self, idx):\n",
    "        item = self.data[idx]\n",
    "        sentence = item['sentence']\n",
    "        label = item['label']\n",
    "\n",
    "        encoding = self.tokenizer(\n",
    "            sentence,\n",
    "            add_special_tokens=True,\n",
    "            max_length=self.max_length,\n",
    "            padding='max_length',\n",
    "            truncation=True,\n",
    "            return_tensors='pt'\n",
    "        )\n",
    "\n",
    "        return {\n",
    "            'input_ids': encoding['input_ids'].squeeze(),\n",
    "            'attention_mask': encoding['attention_mask'].squeeze(),\n",
    "            'label': torch.tensor(label, dtype=torch.long)\n",
    "        }\n",
    "\n",
    "\n",
    "\n"
   ]
  },
  {
   "cell_type": "code",
   "execution_count": 5,
   "metadata": {},
   "outputs": [],
   "source": [
    "# Split dataset\n",
    "train_data, test_data = train_test_split(data, test_size=0.2, random_state=42)\n",
    "train_dataset = SentimentDataset(train_data, bert_tokenizer)\n",
    "test_dataset = SentimentDataset(test_data, bert_tokenizer)\n",
    "\n",
    "train_loader = DataLoader(train_dataset, batch_size=16, shuffle=True)\n",
    "test_loader = DataLoader(test_dataset, batch_size=16)\n"
   ]
  },
  {
   "cell_type": "code",
   "execution_count": 33,
   "metadata": {},
   "outputs": [
    {
     "data": {
      "text/plain": [
       "10149"
      ]
     },
     "execution_count": 33,
     "metadata": {},
     "output_type": "execute_result"
    }
   ],
   "source": []
  },
  {
   "cell_type": "code",
   "execution_count": 6,
   "metadata": {},
   "outputs": [],
   "source": [
    "# Attention Layer\n",
    "class Attention(nn.Module):\n",
    "    def __init__(self, hidden_dim):\n",
    "        super(Attention, self).__init__()\n",
    "        self.attention = nn.Linear(hidden_dim * 2, 1)\n",
    "        self.softmax = nn.Softmax(dim=1)\n",
    "\n",
    "    def forward(self, lstm_output):\n",
    "        attention_scores = self.attention(lstm_output).squeeze(-1)\n",
    "        attention_weights = self.softmax(attention_scores)\n",
    "        context_vector = torch.bmm(attention_weights.unsqueeze(1), lstm_output).squeeze(1)\n",
    "        return context_vector, attention_weights\n",
    "\n",
    "# Sentiment Analysis Model\n",
    "class SentimentModel(nn.Module):\n",
    "    def __init__(self, vocab_size, embedding_dim=768, hidden_dim=256, output_dim=3, dropout=0.3):\n",
    "        super(SentimentModel, self).__init__()\n",
    "        self.embedding = nn.Embedding(vocab_size, embedding_dim)\n",
    "        self.lstm = nn.LSTM(embedding_dim, hidden_dim, batch_first=True, bidirectional=True)\n",
    "        self.attention = Attention(hidden_dim)\n",
    "        self.fc = nn.Linear(hidden_dim * 2, output_dim)\n",
    "        self.dropout = nn.Dropout(dropout)\n",
    "\n",
    "    def forward(self, input_ids, attention_mask):\n",
    "        embedded = self.embedding(input_ids)\n",
    "        lstm_output, _ = self.lstm(embedded)\n",
    "        context_vector, attention_weights = self.attention(lstm_output)\n",
    "        output = self.dropout(context_vector)\n",
    "        output = self.fc(output)\n",
    "        return output\n",
    "\n",
    "# Initialize model\n",
    "device = torch.device('cuda' if torch.cuda.is_available() else 'cpu')\n",
    "model = SentimentModel(vocab_size=len(bert_tokenizer), embedding_dim=768, hidden_dim=256, output_dim=3)\n",
    "model.to(device)\n",
    "\n",
    "# Load pretrained BERT embeddings for the embedding layer\n",
    "bert_model = BertModel.from_pretrained('bert-base-uncased')\n",
    "with torch.no_grad():\n",
    "    # Copy BERT's pretrained embeddings for the original vocabulary\n",
    "    model.embedding.weight[:bert_tokenizer.vocab_size] = bert_model.embeddings.word_embeddings.weight\n",
    "    # Initialize embeddings for new emoji tokens with random values\n",
    "    num_new_tokens = len(bert_tokenizer) - bert_tokenizer.vocab_size\n",
    "    if num_new_tokens > 0:\n",
    "        new_embeddings = torch.randn(num_new_tokens, 768) * 0.02  # Small random init\n",
    "        model.embedding.weight[bert_tokenizer.vocab_size:] = new_embeddings\n",
    "\n",
    "# Training setup\n",
    "criterion = nn.CrossEntropyLoss()\n",
    "optimizer = optim.Adam(model.parameters(), lr=2e-5)\n",
    "\n",
    "# Training loop with progress bars\n",
    "def train_model(model, train_loader, criterion, optimizer, num_epochs=10):\n",
    "    model.train()\n",
    "    \n",
    "    # Create a progress bar for epochs\n",
    "    epoch_pbar = tqdm(range(num_epochs), desc=\"Epochs\", position=0)\n",
    "    \n",
    "    for epoch in epoch_pbar:\n",
    "        total_loss = 0\n",
    "        # Create a progress bar for batches within the epoch\n",
    "        batch_pbar = tqdm(train_loader, desc=f\"Epoch {epoch+1}/{num_epochs}\", \n",
    "                          leave=False, position=1, total=len(train_loader))\n",
    "        \n",
    "        for batch in batch_pbar:\n",
    "            input_ids = batch['input_ids'].to(device)\n",
    "            attention_mask = batch['attention_mask'].to(device)\n",
    "            labels = batch['label'].to(device)\n",
    "\n",
    "            optimizer.zero_grad()\n",
    "            outputs = model(input_ids, attention_mask)\n",
    "            loss = criterion(outputs, labels)\n",
    "            loss.backward()\n",
    "            optimizer.step()\n",
    "\n",
    "            total_loss += loss.item()\n",
    "            \n",
    "            # Update the batch progress bar with current loss\n",
    "            batch_pbar.set_postfix({\"loss\": f\"{loss.item():.4f}\"})\n",
    "        \n",
    "        avg_loss = total_loss/len(train_loader)\n",
    "        # Update the epoch progress bar with average loss\n",
    "        epoch_pbar.set_postfix({\"avg_loss\": f\"{avg_loss:.4f}\"})\n",
    "        print(f'Epoch {epoch+1}/{num_epochs}, Loss: {avg_loss:.4f}')\n",
    "\n",
    "# Evaluation with progress bar\n",
    "def evaluate_model(model, test_loader):\n",
    "    model.eval()\n",
    "    all_preds = []\n",
    "    all_labels = []\n",
    "    \n",
    "    # Create a progress bar for evaluation\n",
    "    eval_pbar = tqdm(test_loader, desc=\"Evaluating\", total=len(test_loader))\n",
    "    \n",
    "    with torch.no_grad():\n",
    "        for batch in eval_pbar:\n",
    "            input_ids = batch['input_ids'].to(device)\n",
    "            attention_mask = batch['attention_mask'].to(device)\n",
    "            labels = batch['label'].to(device)\n",
    "\n",
    "            outputs = model(input_ids, attention_mask)\n",
    "            _, preds = torch.max(outputs, dim=1)\n",
    "            \n",
    "            all_preds.extend(preds.cpu().numpy())\n",
    "            all_labels.extend(labels.cpu().numpy())\n",
    "    \n",
    "    accuracy = accuracy_score(all_labels, all_preds)\n",
    "    f1 = f1_score(all_labels, all_preds, average='weighted')\n",
    "    print(f'Test Accuracy: {accuracy:.4f}')\n",
    "    print(f'Test F1 Score: {f1:.4f}')"
   ]
  },
  {
   "cell_type": "code",
   "execution_count": 7,
   "metadata": {},
   "outputs": [
    {
     "name": "stderr",
     "output_type": "stream",
     "text": [
      "Epochs:   0%|          | 0/10 [00:00<?, ?it/s]"
     ]
    },
    {
     "ename": "",
     "evalue": "",
     "output_type": "error",
     "traceback": [
      "\u001b[1;31mThe Kernel crashed while executing code in the current cell or a previous cell. \n",
      "\u001b[1;31mPlease review the code in the cell(s) to identify a possible cause of the failure. \n",
      "\u001b[1;31mClick <a href='https://aka.ms/vscodeJupyterKernelCrash'>here</a> for more info. \n",
      "\u001b[1;31mView Jupyter <a href='command:jupyter.viewOutput'>log</a> for further details."
     ]
    }
   ],
   "source": [
    "# Run training and evaluation\n",
    "train_model(model, train_loader, criterion, optimizer, num_epochs=10)\n",
    "evaluate_model(model, test_loader)"
   ]
  },
  {
   "cell_type": "code",
   "execution_count": 2,
   "metadata": {
    "execution": {
     "iopub.execute_input": "2025-05-03T13:38:38.932675Z",
     "iopub.status.busy": "2025-05-03T13:38:38.932031Z",
     "iopub.status.idle": "2025-05-03T13:38:38.937765Z",
     "shell.execute_reply": "2025-05-03T13:38:38.937131Z",
     "shell.execute_reply.started": "2025-05-03T13:38:38.932649Z"
    },
    "trusted": true
   },
   "outputs": [],
   "source": [
    "def predict_sentiment(text, tokenizer, model, device, max_length=128):\n",
    "    model.eval()\n",
    "    # Tokenize input text\n",
    "    encoding = tokenizer(\n",
    "        text,\n",
    "        add_special_tokens=True,\n",
    "        max_length=max_length,\n",
    "        padding='max_length',\n",
    "        truncation=True,\n",
    "        return_tensors='pt'\n",
    "    )\n",
    "    \n",
    "    input_ids = encoding['input_ids'].to(device)\n",
    "    attention_mask = encoding['attention_mask'].to(device)\n",
    "    \n",
    "    with torch.no_grad():\n",
    "        outputs = model(input_ids, attention_mask)\n",
    "        _, pred = torch.max(outputs, dim=1)\n",
    "    \n",
    "    # Map prediction to sentiment label\n",
    "    sentiment_map = {0: \"Negative\", 1: \"Neutral\", 2: \"Positive\"}\n",
    "    return sentiment_map[pred.item()]\n"
   ]
  },
  {
   "cell_type": "code",
   "execution_count": 13,
   "metadata": {
    "execution": {
     "iopub.execute_input": "2025-05-03T13:50:44.574864Z",
     "iopub.status.busy": "2025-05-03T13:50:44.574569Z",
     "iopub.status.idle": "2025-05-03T13:50:44.584381Z",
     "shell.execute_reply": "2025-05-03T13:50:44.583631Z",
     "shell.execute_reply.started": "2025-05-03T13:50:44.574844Z"
    },
    "trusted": true
   },
   "outputs": [
    {
     "name": "stdout",
     "output_type": "stream",
     "text": [
      "Sentiment for 'happy,love joy': Negative\n"
     ]
    }
   ],
   "source": [
    "example_text = \"happy,love joy\"\n",
    "sentiment = predict_sentiment(example_text, bert_tokenizer, model, device)\n",
    "print(f\"Sentiment for '{example_text}': {sentiment}\")"
   ]
  }
 ],
 "metadata": {
  "kaggle": {
   "accelerator": "nvidiaTeslaT4",
   "dataSources": [],
   "dockerImageVersionId": 31011,
   "isGpuEnabled": true,
   "isInternetEnabled": true,
   "language": "python",
   "sourceType": "notebook"
  },
  "kernelspec": {
   "display_name": "venv",
   "language": "python",
   "name": "python3"
  },
  "language_info": {
   "codemirror_mode": {
    "name": "ipython",
    "version": 3
   },
   "file_extension": ".py",
   "mimetype": "text/x-python",
   "name": "python",
   "nbconvert_exporter": "python",
   "pygments_lexer": "ipython3",
   "version": "3.10.10"
  }
 },
 "nbformat": 4,
 "nbformat_minor": 4
}
